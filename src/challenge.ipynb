{
  "cells": [
    {
      "cell_type": "code",
      "execution_count": null,
      "metadata": {
        "id": "57nCE77AFAUz"
      },
      "outputs": [],
      "source": [
        "from time import time\n",
        "from zipfile import ZipFile\n",
        "import os\n",
        "\n",
        "file_path = \"farmers-protest-tweets-2021-2-4.json\"\n",
        "if not os.path.exists(file_path):\n",
        "    with ZipFile(\"../tweets/tweets.json.zip\", 'r') as zObject:\n",
        "        zObject.extractall('.')"
      ]
    },
    {
      "cell_type": "markdown",
      "source": [
        "# Q1 (Top 10 fechas con mas tweets)\n",
        "A continuacion se presentan los algoritmos para la obtención del top 10 fechas con mas tweets del data set."
      ],
      "metadata": {
        "id": "41672CzQFQ7m"
      }
    },
    {
      "cell_type": "markdown",
      "source": [
        "**Q1 time: Enfoque en tiempo de ejecución**\n",
        "\n",
        "Para mejorar el tiempo de ejecución se leen todas las lineas de una vez, pero cabe anotar que no se usa pandas por como esta estructurado el archivo, pues se sabe que emplear esta biblioteca mejoraría el tiempo de ejecución significativamente."
      ],
      "metadata": {
        "id": "a91hgx1IUNF6"
      }
    },
    {
      "cell_type": "code",
      "source": [
        "from q1_time import q1_time\n",
        "\n",
        "#Determinacion del tiempo de ejecución\n",
        "tiempo_in = time()\n",
        "print(f\"Tiempo de ejecución:, {time() - tiempo_in}\")\n",
        "\n",
        "#Resultado\n",
        "result = q1_time(file_path)\n",
        "print(\"Resultado:\", result)"
      ],
      "metadata": {
        "id": "y_7n1ujqGxar"
      },
      "execution_count": null,
      "outputs": []
    },
    {
      "cell_type": "markdown",
      "source": [
        "**Q1 memory: Enfoque en tiempo de ejecución**\n",
        "\n",
        "Para disminuir el uso de memoria al ejecutar el código se emplean diccionarios para contar el numero de tweets por dia y usuario, y se procede con iteraciones linea por linea para encontrar los tweets."
      ],
      "metadata": {
        "id": "tLtoDAJhHd-H"
      }
    },
    {
      "cell_type": "code",
      "source": [
        "from q1_memory import q1_memory\n",
        "#Determinacion del tiempo de ejecución\n",
        "tiempo_in = time()\n",
        "print(f\"Tiempo de ejecución:, {time() - tiempo_in}\")\n",
        "\n",
        "#Resultado (El tiempo de ejecución se obtiene al usar 'memory profiler')\n",
        "resultado = q1_memory(file_path)\n",
        "print(\"Resultado:\", resultado)\n"
      ],
      "metadata": {
        "id": "IncUPk_0IC_F"
      },
      "execution_count": null,
      "outputs": []
    },
    {
      "cell_type": "markdown",
      "source": [
        "# Q2 (Top 10 emojis más usados)\n",
        "A continuacion se presentan los algoritmos para la obtención del top 10 emojis más usados del data set. En ambos casos se usa la biblioteca 'emoji' para buscar los emojis tras analizar el archivo."
      ],
      "metadata": {
        "id": "qDqG65wDKP9N"
      }
    },
    {
      "cell_type": "markdown",
      "source": [
        "**Q2 time: Enfoque en tiempo de ejecución**\n",
        "\n",
        "Para mejorar el tiempo de ejecución se procede de manera similar que en Q1, se carga todo el archivo de una vez, y luego se analiza en base al contenido del tweet buscando caracteres del tipo emoji."
      ],
      "metadata": {
        "id": "T_269R0rUHMG"
      }
    },
    {
      "cell_type": "code",
      "source": [
        "from q2_time import q2_time\n",
        "\n",
        "#Determinacion del tiempo de ejecución\n",
        "tiempo_in = time()\n",
        "print(f\"Tiempo de ejecución:, {time() - tiempo_in}\")\n",
        "\n",
        "#Resultado\n",
        "result = q2_time(file_path)\n",
        "print(\"Resultado:\", result)"
      ],
      "metadata": {
        "id": "D3cywU1KP5bv"
      },
      "execution_count": null,
      "outputs": []
    },
    {
      "cell_type": "markdown",
      "source": [
        "**Q2 memory: Enfoque en tiempo de ejecución**\n",
        "\n",
        "Para disminuir el uso de memoria al ejecutar el código se emplea la biblioteca 'collections' y su módulo'Counter', además se itera linea a linea los tweets para este mismo propósito."
      ],
      "metadata": {
        "id": "kSfdHKbMRhmJ"
      }
    },
    {
      "cell_type": "code",
      "source": [
        "from q2_memory import q2_memory\n",
        "#Determinacion del tiempo de ejecución\n",
        "tiempo_in = time()\n",
        "print(f\"Tiempo de ejecución:, {time() - tiempo_in}\")\n",
        "\n",
        "#Resultado (El tiempo de ejecución se obtiene al usar 'memory profiler')\n",
        "resultado = q2_memory(file_path)\n",
        "print(\"Resultado:\", resultado)"
      ],
      "metadata": {
        "id": "-ejCi2c0R-C3"
      },
      "execution_count": null,
      "outputs": []
    },
    {
      "cell_type": "markdown",
      "source": [
        "## Q3 (Top 10 histórico de usuarios más influyentes en función del conteo de las menciones)\n",
        "A continuacion se presentan los algoritmos para la obtención del top 10 histórico de usuarios más influyentes en función del conteo de las menciones, en ambos casos se usaron 'collections' y su módulo 'Counter', asi mismo 'typing' con 'List' y 'Tuple'."
      ],
      "metadata": {
        "id": "7jaZ3kXlSEF4"
      }
    },
    {
      "cell_type": "markdown",
      "source": [
        "**Q3 time: Enfoque en tiempo de ejecución**\n",
        "\n",
        "Para mejorar el tiempo de ejecución se hace uso de un 'Counter' para almacenar el numero de apariciones (menciones) de un 'username'. Se itera todo el archivo usando 'json.loads' y se verifica para tweets donde no hayan menciones (NoneType)."
      ],
      "metadata": {
        "id": "61S-ImDWUKrL"
      }
    },
    {
      "cell_type": "code",
      "source": [
        "from q3_time import q3_time\n",
        "\n",
        "#Determinacion del tiempo de ejecución\n",
        "tiempo_in = time()\n",
        "print(f\"Tiempo de ejecución:, {time() - tiempo_in}\")\n",
        "\n",
        "#Resultado\n",
        "result = q3_time(file_path)\n",
        "print(\"Resultado:\", result)"
      ],
      "metadata": {
        "id": "dbSAuXfDTkti"
      },
      "execution_count": null,
      "outputs": []
    },
    {
      "cell_type": "markdown",
      "source": [
        "**Q3 memory: Enfoque en tiempo de ejecución**\n",
        "\n",
        "Para disminuir el uso de memoria al ejecutar el código nuevamente se emplea la biblioteca 'collections' y su módulo'Counter', asi tambien 'typing' con 'List' y 'Tuple'. A diferencia de en el quest enfocado en mejorar el tiempo de ejecución, esta vez la lectura será linea por linea.\n"
      ],
      "metadata": {
        "id": "IDtNzs1wToNs"
      }
    },
    {
      "cell_type": "code",
      "source": [
        "from q3_memory import q3_memory\n",
        "#Determinacion del tiempo de ejecución\n",
        "tiempo_in = time()\n",
        "print(f\"Tiempo de ejecución:, {time() - tiempo_in}\")\n",
        "\n",
        "#Resultado (El tiempo de ejecución se obtiene al usar 'memory profiler')\n",
        "resultado = q3_memory(file_path)\n",
        "print(\"Resultado:\", resultado)"
      ],
      "metadata": {
        "id": "pOTtt1l0US37"
      },
      "execution_count": null,
      "outputs": []
    }
  ],
  "metadata": {
    "language_info": {
      "name": "python"
    },
    "orig_nbformat": 4,
    "colab": {
      "provenance": []
    }
  },
  "nbformat": 4,
  "nbformat_minor": 0
}